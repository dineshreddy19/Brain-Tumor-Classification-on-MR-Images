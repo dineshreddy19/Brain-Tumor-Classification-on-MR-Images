{
  "nbformat": 4,
  "nbformat_minor": 0,
  "metadata": {
    "accelerator": "GPU",
    "colab": {
      "name": "MSGGAN_train_test.ipynb",
      "provenance": [],
      "collapsed_sections": []
    },
    "kernelspec": {
      "display_name": "Python 3",
      "name": "python3"
    },
    "language_info": {
      "name": "python"
    }
  },
  "cells": [
    {
      "cell_type": "code",
      "metadata": {
        "colab": {
          "base_uri": "https://localhost:8080/"
        },
        "id": "eX0HL_p97sBf",
        "outputId": "6c540394-6b79-4809-fb3b-7329fc6fc903"
      },
      "source": [
        "!nvidia-smi"
      ],
      "execution_count": 1,
      "outputs": [
        {
          "output_type": "stream",
          "text": [
            "Fri Mar 19 05:42:53 2021       \n",
            "+-----------------------------------------------------------------------------+\n",
            "| NVIDIA-SMI 460.56       Driver Version: 460.32.03    CUDA Version: 11.2     |\n",
            "|-------------------------------+----------------------+----------------------+\n",
            "| GPU  Name        Persistence-M| Bus-Id        Disp.A | Volatile Uncorr. ECC |\n",
            "| Fan  Temp  Perf  Pwr:Usage/Cap|         Memory-Usage | GPU-Util  Compute M. |\n",
            "|                               |                      |               MIG M. |\n",
            "|===============================+======================+======================|\n",
            "|   0  Tesla P100-PCIE...  Off  | 00000000:00:04.0 Off |                    0 |\n",
            "| N/A   37C    P0    27W / 250W |      0MiB / 16280MiB |      0%      Default |\n",
            "|                               |                      |                  N/A |\n",
            "+-------------------------------+----------------------+----------------------+\n",
            "                                                                               \n",
            "+-----------------------------------------------------------------------------+\n",
            "| Processes:                                                                  |\n",
            "|  GPU   GI   CI        PID   Type   Process name                  GPU Memory |\n",
            "|        ID   ID                                                   Usage      |\n",
            "|=============================================================================|\n",
            "|  No running processes found                                                 |\n",
            "+-----------------------------------------------------------------------------+\n"
          ],
          "name": "stdout"
        }
      ]
    },
    {
      "cell_type": "code",
      "metadata": {
        "colab": {
          "base_uri": "https://localhost:8080/"
        },
        "id": "GBHWoBFTZE_Y",
        "outputId": "acfeb038-1e28-4752-dd66-7c660f7ed4e4"
      },
      "source": [
        "!pip install scikit-plot scipy==1.2.0"
      ],
      "execution_count": 2,
      "outputs": [
        {
          "output_type": "stream",
          "text": [
            "Collecting scikit-plot\n",
            "  Downloading https://files.pythonhosted.org/packages/7c/47/32520e259340c140a4ad27c1b97050dd3254fdc517b1d59974d47037510e/scikit_plot-0.3.7-py3-none-any.whl\n",
            "Collecting scipy==1.2.0\n",
            "\u001b[?25l  Downloading https://files.pythonhosted.org/packages/80/39/066ecde98f373430bf7a39a02d91c7075b01ef4fc928456e8e31577342d6/scipy-1.2.0-cp37-cp37m-manylinux1_x86_64.whl (26.6MB)\n",
            "\u001b[K     |████████████████████████████████| 26.6MB 115kB/s \n",
            "\u001b[?25hRequirement already satisfied: matplotlib>=1.4.0 in /usr/local/lib/python3.7/dist-packages (from scikit-plot) (3.2.2)\n",
            "Requirement already satisfied: joblib>=0.10 in /usr/local/lib/python3.7/dist-packages (from scikit-plot) (1.0.1)\n",
            "Requirement already satisfied: scikit-learn>=0.18 in /usr/local/lib/python3.7/dist-packages (from scikit-plot) (0.22.2.post1)\n",
            "Requirement already satisfied: numpy>=1.8.2 in /usr/local/lib/python3.7/dist-packages (from scipy==1.2.0) (1.19.5)\n",
            "Requirement already satisfied: kiwisolver>=1.0.1 in /usr/local/lib/python3.7/dist-packages (from matplotlib>=1.4.0->scikit-plot) (1.3.1)\n",
            "Requirement already satisfied: pyparsing!=2.0.4,!=2.1.2,!=2.1.6,>=2.0.1 in /usr/local/lib/python3.7/dist-packages (from matplotlib>=1.4.0->scikit-plot) (2.4.7)\n",
            "Requirement already satisfied: cycler>=0.10 in /usr/local/lib/python3.7/dist-packages (from matplotlib>=1.4.0->scikit-plot) (0.10.0)\n",
            "Requirement already satisfied: python-dateutil>=2.1 in /usr/local/lib/python3.7/dist-packages (from matplotlib>=1.4.0->scikit-plot) (2.8.1)\n",
            "Requirement already satisfied: six in /usr/local/lib/python3.7/dist-packages (from cycler>=0.10->matplotlib>=1.4.0->scikit-plot) (1.15.0)\n",
            "\u001b[31mERROR: albumentations 0.1.12 has requirement imgaug<0.2.7,>=0.2.5, but you'll have imgaug 0.2.9 which is incompatible.\u001b[0m\n",
            "Installing collected packages: scipy, scikit-plot\n",
            "  Found existing installation: scipy 1.4.1\n",
            "    Uninstalling scipy-1.4.1:\n",
            "      Successfully uninstalled scipy-1.4.1\n",
            "Successfully installed scikit-plot-0.3.7 scipy-1.2.0\n"
          ],
          "name": "stdout"
        }
      ]
    },
    {
      "cell_type": "code",
      "metadata": {
        "colab": {
          "base_uri": "https://localhost:8080/"
        },
        "id": "wSdrxVqmU7S5",
        "outputId": "0351fe27-6dca-477d-be2f-01c4888b80f5"
      },
      "source": [
        "!unzip msg_gan\n",
        "!mv msg_gan/* /content/\n",
        "!python download_dataset.py "
      ],
      "execution_count": 3,
      "outputs": [
        {
          "output_type": "stream",
          "text": [
            "Archive:  msg_gan.zip\n",
            "   creating: msg_gan/\n",
            "   creating: msg_gan/data_processing/\n",
            "  inflating: msg_gan/data_processing/DataLoader.py  \n",
            "  inflating: msg_gan/data_processing/__init__.py  \n",
            "   creating: msg_gan/data_processing/__pycache__/\n",
            "  inflating: msg_gan/data_processing/__pycache__/DataLoader.cpython-37.pyc  \n",
            "  inflating: msg_gan/data_processing/__pycache__/__init__.cpython-37.pyc  \n",
            "  inflating: msg_gan/demo.py         \n",
            "  inflating: msg_gan/download_dataset.py  \n",
            "  inflating: msg_gan/GAN.py          \n",
            "  inflating: msg_gan/generate_loss_plots.py  \n",
            "  inflating: msg_gan/latent_space_interpolation.py  \n",
            "  inflating: msg_gan/loss.py         \n",
            "   creating: msg_gan/MSG_GAN/\n",
            "  inflating: msg_gan/MSG_GAN/CustomLayers.py  \n",
            "  inflating: msg_gan/MSG_GAN/GAN.py  \n",
            "  inflating: msg_gan/MSG_GAN/Losses.py  \n",
            "  inflating: msg_gan/MSG_GAN/utils.py  \n",
            "  inflating: msg_gan/MSG_GAN/__init__.py  \n",
            "   creating: msg_gan/MSG_GAN/__pycache__/\n",
            "  inflating: msg_gan/MSG_GAN/__pycache__/CustomLayers.cpython-37.pyc  \n",
            "  inflating: msg_gan/MSG_GAN/__pycache__/GAN.cpython-37.pyc  \n",
            "  inflating: msg_gan/MSG_GAN/__pycache__/Losses.cpython-37.pyc  \n",
            "  inflating: msg_gan/MSG_GAN/__pycache__/__init__.cpython-37.pyc  \n",
            "  inflating: msg_gan/msg_gan_train.ipynb  \n",
            "  inflating: msg_gan/new_train.py    \n",
            "  inflating: msg_gan/train.py        \n",
            "Downloading dataset_part1\n",
            "Downloading dataset_part2\n",
            "Downloading dataset_part3\n",
            "Downloading dataset_part4\n",
            "Extracted .mat files...\n",
            "3064 files successfully saved as images under data directory with label names as sub-folders\n"
          ],
          "name": "stdout"
        }
      ]
    },
    {
      "cell_type": "code",
      "metadata": {
        "id": "zlEFq5yLU7S7",
        "colab": {
          "base_uri": "https://localhost:8080/"
        },
        "outputId": "d92e31df-bff6-47f6-f6a3-c759d91012e7"
      },
      "source": [
        "!python train.py --depth=6 \\\n",
        "                  --latent_size=512 \\\n",
        "                  --images_dir=data/ \\\n",
        "                  --sample_dir=samples/bt \\\n",
        "                  --model_dir=models/bt \\\n",
        "                  --num_samples 64 \\\n",
        "                  --num_epochs 1 "
      ],
      "execution_count": 89,
      "outputs": [
        {
          "output_type": "stream",
          "text": [
            "Total number of images in the dataset: 3064\n",
            "Generator Configuration: \n",
            "DataParallel(\n",
            "  (module): Generator(\n",
            "    (layers): ModuleList(\n",
            "      (0): GenInitialBlock(\n",
            "        (conv_1): ConvTranspose2d(512, 512, kernel_size=(4, 4), stride=(1, 1))\n",
            "        (conv_2): Conv2d(512, 512, kernel_size=(3, 3), stride=(1, 1), padding=(1, 1))\n",
            "        (lrelu): LeakyReLU(negative_slope=0.2)\n",
            "      )\n",
            "      (1): GenGeneralConvBlock(\n",
            "        (conv_1): Conv2d(512, 512, kernel_size=(3, 3), stride=(1, 1), padding=(1, 1))\n",
            "        (conv_2): Conv2d(512, 512, kernel_size=(3, 3), stride=(1, 1), padding=(1, 1))\n",
            "        (lrelu): LeakyReLU(negative_slope=0.2)\n",
            "      )\n",
            "      (2): GenGeneralConvBlock(\n",
            "        (conv_1): Conv2d(512, 512, kernel_size=(3, 3), stride=(1, 1), padding=(1, 1))\n",
            "        (conv_2): Conv2d(512, 512, kernel_size=(3, 3), stride=(1, 1), padding=(1, 1))\n",
            "        (lrelu): LeakyReLU(negative_slope=0.2)\n",
            "      )\n",
            "      (3): GenGeneralConvBlock(\n",
            "        (conv_1): Conv2d(512, 512, kernel_size=(3, 3), stride=(1, 1), padding=(1, 1))\n",
            "        (conv_2): Conv2d(512, 512, kernel_size=(3, 3), stride=(1, 1), padding=(1, 1))\n",
            "        (lrelu): LeakyReLU(negative_slope=0.2)\n",
            "      )\n",
            "      (4): GenGeneralConvBlock(\n",
            "        (conv_1): Conv2d(512, 256, kernel_size=(3, 3), stride=(1, 1), padding=(1, 1))\n",
            "        (conv_2): Conv2d(256, 256, kernel_size=(3, 3), stride=(1, 1), padding=(1, 1))\n",
            "        (lrelu): LeakyReLU(negative_slope=0.2)\n",
            "      )\n",
            "      (5): GenGeneralConvBlock(\n",
            "        (conv_1): Conv2d(256, 128, kernel_size=(3, 3), stride=(1, 1), padding=(1, 1))\n",
            "        (conv_2): Conv2d(128, 128, kernel_size=(3, 3), stride=(1, 1), padding=(1, 1))\n",
            "        (lrelu): LeakyReLU(negative_slope=0.2)\n",
            "      )\n",
            "    )\n",
            "    (rgb_converters): ModuleList(\n",
            "      (0): Conv2d(512, 1, kernel_size=(1, 1), stride=(1, 1))\n",
            "      (1): Conv2d(512, 1, kernel_size=(1, 1), stride=(1, 1))\n",
            "      (2): Conv2d(512, 1, kernel_size=(1, 1), stride=(1, 1))\n",
            "      (3): Conv2d(512, 1, kernel_size=(1, 1), stride=(1, 1))\n",
            "      (4): Conv2d(256, 1, kernel_size=(1, 1), stride=(1, 1))\n",
            "      (5): Conv2d(128, 1, kernel_size=(1, 1), stride=(1, 1))\n",
            "    )\n",
            "  )\n",
            ")\n",
            "Discriminator Configuration: \n",
            "DataParallel(\n",
            "  (module): Discriminator(\n",
            "    (rgb_to_features): ModuleList(\n",
            "      (0): Conv2d(1, 256, kernel_size=(1, 1), stride=(1, 1))\n",
            "      (1): Conv2d(1, 256, kernel_size=(1, 1), stride=(1, 1))\n",
            "      (2): Conv2d(1, 256, kernel_size=(1, 1), stride=(1, 1))\n",
            "      (3): Conv2d(1, 256, kernel_size=(1, 1), stride=(1, 1))\n",
            "      (4): Conv2d(1, 128, kernel_size=(1, 1), stride=(1, 1))\n",
            "      (5): Conv2d(1, 128, kernel_size=(1, 1), stride=(1, 1))\n",
            "    )\n",
            "    (layers): ModuleList(\n",
            "      (0): DisFinalBlock(\n",
            "        (batch_discriminator): MinibatchStdDev()\n",
            "        (conv_1): Conv2d(513, 512, kernel_size=(3, 3), stride=(1, 1), padding=(1, 1))\n",
            "        (conv_2): Conv2d(512, 512, kernel_size=(4, 4), stride=(1, 1))\n",
            "        (conv_3): Conv2d(512, 1, kernel_size=(1, 1), stride=(1, 1))\n",
            "        (lrelu): LeakyReLU(negative_slope=0.2)\n",
            "      )\n",
            "      (1): DisGeneralConvBlock(\n",
            "        (conv_1): Conv2d(512, 512, kernel_size=(3, 3), stride=(1, 1), padding=(1, 1))\n",
            "        (conv_2): Conv2d(512, 256, kernel_size=(3, 3), stride=(1, 1), padding=(1, 1))\n",
            "        (downSampler): AvgPool2d(kernel_size=2, stride=2, padding=0)\n",
            "        (lrelu): LeakyReLU(negative_slope=0.2)\n",
            "      )\n",
            "      (2): DisGeneralConvBlock(\n",
            "        (conv_1): Conv2d(512, 512, kernel_size=(3, 3), stride=(1, 1), padding=(1, 1))\n",
            "        (conv_2): Conv2d(512, 256, kernel_size=(3, 3), stride=(1, 1), padding=(1, 1))\n",
            "        (downSampler): AvgPool2d(kernel_size=2, stride=2, padding=0)\n",
            "        (lrelu): LeakyReLU(negative_slope=0.2)\n",
            "      )\n",
            "      (3): DisGeneralConvBlock(\n",
            "        (conv_1): Conv2d(512, 512, kernel_size=(3, 3), stride=(1, 1), padding=(1, 1))\n",
            "        (conv_2): Conv2d(512, 256, kernel_size=(3, 3), stride=(1, 1), padding=(1, 1))\n",
            "        (downSampler): AvgPool2d(kernel_size=2, stride=2, padding=0)\n",
            "        (lrelu): LeakyReLU(negative_slope=0.2)\n",
            "      )\n",
            "      (4): DisGeneralConvBlock(\n",
            "        (conv_1): Conv2d(256, 256, kernel_size=(3, 3), stride=(1, 1), padding=(1, 1))\n",
            "        (conv_2): Conv2d(256, 256, kernel_size=(3, 3), stride=(1, 1), padding=(1, 1))\n",
            "        (downSampler): AvgPool2d(kernel_size=2, stride=2, padding=0)\n",
            "        (lrelu): LeakyReLU(negative_slope=0.2)\n",
            "      )\n",
            "      (5): DisGeneralConvBlock(\n",
            "        (conv_1): Conv2d(128, 128, kernel_size=(3, 3), stride=(1, 1), padding=(1, 1))\n",
            "        (conv_2): Conv2d(128, 128, kernel_size=(3, 3), stride=(1, 1), padding=(1, 1))\n",
            "        (downSampler): AvgPool2d(kernel_size=2, stride=2, padding=0)\n",
            "        (lrelu): LeakyReLU(negative_slope=0.2)\n",
            "      )\n",
            "    )\n",
            "  )\n",
            ")\n",
            "Starting the training process ... \n",
            "\n",
            "Epoch: 1\n",
            "Elapsed [0:00:05.398842] batch: 1  d_loss: -0.154367  g_loss: 4.924649\n",
            "Time taken for epoch: 91.439 secs\n",
            "Training completed ...\n"
          ],
          "name": "stdout"
        }
      ]
    },
    {
      "cell_type": "code",
      "metadata": {
        "id": "5yYkUlPXU7S8"
      },
      "source": [
        "import torch\n",
        "import torch.nn as nn\n",
        "from sklearn.model_selection import KFold\n",
        "from torch.utils.data import Dataset, DataLoader\n",
        "from torchvision.datasets import ImageFolder\n",
        "from torchvision import transforms\n",
        "import torchvision.utils as vutils\n",
        "from MSG_GAN.GAN import Discriminator\n",
        "from MSG_GAN.CustomLayers import *\n",
        "from MSG_GAN.utils import *\n",
        "import numpy as np\n",
        "import matplotlib.pyplot as plt\n",
        "from torch.nn.functional import avg_pool2d"
      ],
      "execution_count": 58,
      "outputs": []
    },
    {
      "cell_type": "code",
      "metadata": {
        "id": "EvTt9VfaU7S8"
      },
      "source": [
        "def augmentor(data, image_size=128):\n",
        "  transform1 = transforms.Compose([\n",
        "                               transforms.Resize(image_size),\n",
        "                               transforms.CenterCrop(image_size),\n",
        "                               transforms.Grayscale(1),\n",
        "                               transforms.ToTensor(),\n",
        "                               transforms.Normalize((0.5,), (0.5,)),\n",
        "                           ])\n",
        "  \n",
        "  transform2 = transforms.Compose([\n",
        "                               transforms.Resize(image_size),\n",
        "                               transforms.CenterCrop(image_size),\n",
        "                               transforms.Grayscale(1),\n",
        "                               transforms.RandomRotation(45),\n",
        "                               transforms.ToTensor(),\n",
        "                               transforms.Normalize((0.5,), (0.5,)),\n",
        "                           ])\n",
        "  \n",
        "  transform3 = transforms.Compose([\n",
        "                               transforms.Resize(image_size),\n",
        "                               transforms.CenterCrop(image_size),\n",
        "                               transforms.Grayscale(1),\n",
        "                               transforms.RandomRotation(90),\n",
        "                               transforms.ToTensor(),\n",
        "                               transforms.Normalize((0.5,), (0.5,)),\n",
        "                           ])\n",
        "  \n",
        "  transform4 = transforms.Compose([\n",
        "                               transforms.Resize(image_size),\n",
        "                               transforms.CenterCrop(image_size),\n",
        "                               transforms.Grayscale(1),\n",
        "                               transforms.RandomRotation(120),\n",
        "                               transforms.ToTensor(),\n",
        "                               transforms.Normalize((0.5,), (0.5,)),\n",
        "                           ])\n",
        "  \n",
        "  transform5 = transforms.Compose([\n",
        "                               transforms.Resize(image_size),\n",
        "                               transforms.CenterCrop(image_size),\n",
        "                               transforms.Grayscale(1),\n",
        "                               transforms.RandomRotation(180),\n",
        "                               transforms.ToTensor(),\n",
        "                               transforms.Normalize((0.5,), (0.5,)),\n",
        "                           ])\n",
        "  \n",
        "  transform6 = transforms.Compose([\n",
        "                               transforms.Resize(image_size),\n",
        "                               transforms.CenterCrop(image_size),\n",
        "                               transforms.Grayscale(1),\n",
        "                               transforms.RandomRotation(240),\n",
        "                               transforms.ToTensor(),\n",
        "                               transforms.Normalize((0.5,), (0.5,)),\n",
        "                           ])\n",
        "  \n",
        "  transform7 = transforms.Compose([\n",
        "                               transforms.Resize(image_size),\n",
        "                               transforms.CenterCrop(image_size),\n",
        "                               transforms.Grayscale(1),\n",
        "                               transforms.RandomRotation(270),\n",
        "                               transforms.ToTensor(),\n",
        "                               transforms.Normalize((0.5,), (0.5,)),\n",
        "                           ])\n",
        "  \n",
        "  transform8 = transforms.Compose([\n",
        "                               transforms.Resize(image_size),\n",
        "                               transforms.CenterCrop(image_size),\n",
        "                               transforms.Grayscale(1),\n",
        "                               transforms.RandomRotation(300),\n",
        "                               transforms.ToTensor(),\n",
        "                               transforms.Normalize((0.5,), (0.5,)),\n",
        "                           ])\n",
        "  \n",
        "  transform9 = transforms.Compose([\n",
        "                               transforms.Resize(image_size),\n",
        "                               transforms.CenterCrop(image_size),\n",
        "                               transforms.Grayscale(1),\n",
        "                               transforms.RandomRotation(330),\n",
        "                               transforms.ToTensor(),\n",
        "                               transforms.Normalize((0.5,), (0.5,)),\n",
        "                           ])\n",
        "  \n",
        "  transformers = [transform1, transform2, transform3, transform4, transform5, transform6, transform7, transform8, transform9]\n",
        "  \n",
        "  new_imgs = []\n",
        "  new_labels = []\n",
        "\n",
        "  for X, y in data:\n",
        "    for trans in transformers:\n",
        "      new_imgs.append(trans(X))\n",
        "      new_labels.append(torch.tensor(y))\n",
        "  \n",
        "  return torch.stack(new_imgs), torch.stack(new_labels) "
      ],
      "execution_count": 59,
      "outputs": []
    },
    {
      "cell_type": "code",
      "metadata": {
        "id": "6ZHFdv__U7S-"
      },
      "source": [
        "depth = 6\n",
        "latent_size = 512\n",
        "batch_size = 8\n",
        "n_classes = 3\n",
        "epochs = 30\n",
        "lr = 1e-3\n",
        "gpu_parallelize = True\n",
        "num_workers = 2\n",
        "images_dir = 'data'\n",
        "model_dir = 'models/bt'\n",
        "samples_dir = 'samples/bt'\n",
        "model_path = 'models/bt/GAN_DIS_1.pth'\n",
        "device = torch.device('cuda' if torch.cuda.is_available() else 'cpu') "
      ],
      "execution_count": 60,
      "outputs": []
    },
    {
      "cell_type": "code",
      "metadata": {
        "id": "lH5IsvSDU7S9"
      },
      "source": [
        "# dataset = dset.ImageFolder(root=dataroot,\n",
        "#                            transform=transforms.Compose([\n",
        "#                                transforms.Resize(image_size),\n",
        "#                                transforms.CenterCrop(image_size),\n",
        "#                                transforms.Grayscale(1),\n",
        "#                                transforms.ToTensor(),\n",
        "#                                transforms.Normalize((0.5,), (0.5,)),\n",
        "#                            ]))\n",
        "\n",
        "\n",
        "dataset = ImageFolder(root='data')\n",
        "\n",
        "dataloader = torch.utils.data.DataLoader(\n",
        "                      dataset,\n",
        "                      batch_size=8, shuffle=True, collate_fn=augmentor)\n",
        "\n",
        "# data_source = FoldersDistributedDataset\n",
        "\n",
        "# dataset = data_source(\n",
        "#     'data',\n",
        "#     transform=get_transform((int(np.power(2, depth + 1)),\n",
        "#                               int(np.power(2, depth + 1)))))\n",
        "\n",
        "# data = get_data_loader(dataset, batch_size, num_workers)"
      ],
      "execution_count": 61,
      "outputs": []
    },
    {
      "cell_type": "code",
      "metadata": {
        "id": "2Ct5TRLGU7S-",
        "colab": {
          "base_uri": "https://localhost:8080/",
          "height": 353
        },
        "outputId": "da392a3b-4e7a-4767-f770-e269154d62a1"
      },
      "source": [
        "for b, (images, labels) in enumerate(dataloader):\n",
        "    break\n",
        "\n",
        "class_names = ['Glioma', 'Menignioma', 'Pituatary']\n",
        "print('Label:', labels.numpy())\n",
        "print('Class: ', *np.array([class_names[i] for i in labels]))\n",
        "\n",
        "# Print the images\n",
        "im = vutils.make_grid(images, nrow=8)  # the default nrow is 8\n",
        "plt.figure(figsize=(10,4))\n",
        "plt.imshow(np.transpose(im.numpy(), (1, 2, 0)));"
      ],
      "execution_count": 62,
      "outputs": [
        {
          "output_type": "stream",
          "text": [
            "Clipping input data to the valid range for imshow with RGB data ([0..1] for floats or [0..255] for integers).\n"
          ],
          "name": "stderr"
        },
        {
          "output_type": "stream",
          "text": [
            "Label: [0 0 0 0 0 0 0 0 0 2 2 2 2 2 2 2 2 2 0 0 0 0 0 0 0 0 0 0 0 0 0 0 0 0 0 0 1\n",
            " 1 1 1 1 1 1 1 1 0 0 0 0 0 0 0 0 0 0 0 0 0 0 0 0 0 0 0 0 0 0 0 0 0 0 0]\n",
            "Class:  Glioma Glioma Glioma Glioma Glioma Glioma Glioma Glioma Glioma Pituatary Pituatary Pituatary Pituatary Pituatary Pituatary Pituatary Pituatary Pituatary Glioma Glioma Glioma Glioma Glioma Glioma Glioma Glioma Glioma Glioma Glioma Glioma Glioma Glioma Glioma Glioma Glioma Glioma Menignioma Menignioma Menignioma Menignioma Menignioma Menignioma Menignioma Menignioma Menignioma Glioma Glioma Glioma Glioma Glioma Glioma Glioma Glioma Glioma Glioma Glioma Glioma Glioma Glioma Glioma Glioma Glioma Glioma Glioma Glioma Glioma Glioma Glioma Glioma Glioma Glioma Glioma\n"
          ],
          "name": "stdout"
        },
        {
          "output_type": "display_data",
          "data": {
            "image/png": "[encoded data removed]",
            "text/plain": [
              "<Figure size 720x288 with 1 Axes>"
            ]
          },
          "metadata": {
            "tags": [],
            "needs_background": "light"
          }
        }
      ]
    },
    {
      "cell_type": "code",
      "metadata": {
        "id": "P5ZbjH6LU7S_"
      },
      "source": [
        "criterion = nn.CrossEntropyLoss().to(device)"
      ],
      "execution_count": 63,
      "outputs": []
    },
    {
      "cell_type": "code",
      "metadata": {
        "id": "Pur3lD5kU7S_"
      },
      "source": [
        "kfold = KFold(n_splits=5, shuffle=True, random_state=101) # to reproduce results, random state is set to 101"
      ],
      "execution_count": 64,
      "outputs": []
    },
    {
      "cell_type": "code",
      "metadata": {
        "id": "njMyEmGARTcs"
      },
      "source": [
        "n_classes = 3\n",
        "epochs = 1"
      ],
      "execution_count": 85,
      "outputs": []
    },
    {
      "cell_type": "code",
      "metadata": {
        "id": "oLdQZRWvU7TA",
        "colab": {
          "base_uri": "https://localhost:8080/",
          "height": 1000
        },
        "outputId": "21856af9-2484-40e8-824b-37833a901619"
      },
      "source": [
        "for fold, (train_ids, test_ids) in enumerate(kfold.split(dataset)):\n",
        "    # Print\n",
        "    print(f'FOLD {fold+1}\\n')\n",
        "    \n",
        "    model_name = f'MSGGAN_classifier_new_{fold}' \n",
        "    \n",
        "    # Sample elements randomly from a given list of ids, no replacement.\n",
        "    train_subsampler = torch.utils.data.SubsetRandomSampler(train_ids)\n",
        "    test_subsampler = torch.utils.data.SubsetRandomSampler(test_ids)\n",
        "    \n",
        "    # Define data loaders for training and testing data in this fold\n",
        "    trainloader = torch.utils.data.DataLoader(\n",
        "                      dataset, \n",
        "                      batch_size=batch_size, sampler=train_subsampler, collate_fn=augmentor)\n",
        "\n",
        "    testloader = torch.utils.data.DataLoader(\n",
        "                      dataset,\n",
        "                      batch_size=batch_size, sampler=test_subsampler, collate_fn=augmentor)\n",
        "    \n",
        "    model = Discriminator(depth, latent_size).to(device)\n",
        "    model = nn.DataParallel(model)\n",
        "    model.load_state_dict(torch.load(model_path, map_location=device))\n",
        "\n",
        "    # final_block = nn.Sequential(\n",
        "    #     MinibatchStdDev(),\n",
        "        \n",
        "    #     nn.Linear(model.module.feature_size+1, 1024),\n",
        "    #     nn.ReLU(True),\n",
        "    #     nn.Dropout(0.5),\n",
        "\n",
        "    #     nn.Linear(1024, 1024),\n",
        "    #     nn.ReLU(True),\n",
        "    #     nn.Dropout(0.5),\n",
        "\n",
        "    #     nn.Linear(1024, 3),\n",
        "    #     nn.Softmax()\n",
        "    # ).to(device)\n",
        "    \n",
        "    # model.module.layers[0] = final_block\n",
        "\n",
        "    model.module.layers[0].conv_3 = nn.Sequential(nn.Conv2d(512, 3, kernel_size=(1, 1), stride=(1, 1)), nn.Softmax()).to(device)\n",
        "\n",
        "    for params in model.parameters():\n",
        "        params.requires_grad = False\n",
        "\n",
        "    for params in model.module.layers[0].parameters():\n",
        "        params.requires_grad = True\n",
        "    \n",
        "    model = model.to(device)\n",
        "        \n",
        "    optimizer = torch.optim.Adam(model.parameters(), lr=lr)\n",
        "\n",
        "    print('\\nTraining the model')\n",
        "    b, test_b = 0, 0\n",
        "\n",
        "    training_losses = []\n",
        "    training_accuracies = []\n",
        "    test_losses = []\n",
        "    test_correct = []\n",
        "\n",
        "    start_time = time.time()\n",
        "\n",
        "    for epoch in range(epochs):\n",
        "        e_start = time.time()\n",
        "\n",
        "        model.train()\n",
        "\n",
        "        running_loss = 0.0\n",
        "        running_accuracy = 0.0\n",
        "        tst_corr = 0.0\n",
        "\n",
        "        for b, (X_train, y_train) in enumerate(trainloader):\n",
        "            X_train, y_train = X_train.to(device), y_train.to(device)\n",
        "            # zero the parameter gradients\n",
        "            optimizer.zero_grad()\n",
        "\n",
        "            # forward + backward + optimize\n",
        "            X_train = [X_train] + [avg_pool2d(X_train, int(np.power(2, i)))\n",
        "                                     for i in range(1, depth)]\n",
        "            X_train = list(reversed(X_train))\n",
        "\n",
        "            y_pred = model(X_train)\n",
        "            #print(y_pred)\n",
        "            y_pred = y_pred.view(-1, n_classes)\n",
        "            #print(y_pred)\n",
        "\n",
        "            loss = criterion(y_pred, y_train)\n",
        "\n",
        "            predicted = torch.argmax(y_pred.data, dim=1).data\n",
        "            batch_corr = (predicted == y_train).sum()\n",
        "            running_accuracy += batch_corr\n",
        "            \n",
        "            loss.backward()\n",
        "            \n",
        "            optimizer.step()\n",
        "            \n",
        "            # scheduler.step()\n",
        "            # print statistics\n",
        "            running_loss += loss.item()\n",
        "\n",
        "            if b % int(len(trainloader)/batch_size) == 0:\n",
        "                print(f'Epoch: {epoch+1:2}  batch: {b+1:6} [{b+1:6}/{len(trainloader)}]  Loss: {loss.item():.6f}  Accuracy: {running_accuracy.item()*100/((batch_size * 9) * (b+1)):.6f}%')\n",
        "            \n",
        "        training_losses.append(loss.item())\n",
        "        training_accuracies.append(running_accuracy.item()*100/((batch_size * 9) * (b+1)))\n",
        "\n",
        "        print(f\"Epoch {epoch+1} | Training Accuracy: {training_accuracies[-1]:.6f} | Training Loss: {training_losses[-1]:.6f}\")\n",
        "\n",
        "        model.eval()\n",
        "        b = 0\n",
        "\n",
        "        with torch.no_grad():\n",
        "            correct = 0\n",
        "            test_loss = []\n",
        "            test_corr = []\n",
        "            labels = []\n",
        "            pred = []\n",
        "\n",
        "            new_y = 0.0\n",
        "\n",
        "            # perform test set evaluation batch wise\n",
        "            for b, (X, y) in enumerate(testloader):\n",
        "                b += 1\n",
        "                # set label to use CUDA if available\n",
        "                X, y = X.to(device), y.to(device)\n",
        "\n",
        "                X = [X] + [avg_pool2d(X, int(np.power(2, i)))\n",
        "                                     for i in range(1, depth)]\n",
        "                X = list(reversed(X))\n",
        "\n",
        "                # append original labels            \n",
        "                if y.shape[0] != (batch_size * 9):\n",
        "                    blank_values = [torch.Tensor([0.0]) for i in range(((batch_size * 9) - y.shape[0]))]\n",
        "                    new_y = torch.Tensor([*y, *blank_values])\n",
        "                    labels.append(new_y.cpu().numpy())\n",
        "                else:            \n",
        "                    labels.append(y.cpu().numpy())\n",
        "\n",
        "                # perform forward pass\n",
        "                y_val = model(X).view(-1, n_classes)\n",
        "\n",
        "                # get argmax of predicted values, which is our label\n",
        "                predicted = torch.argmax(y_val.data, dim=1) \n",
        "\n",
        "                if predicted.shape[0] != (batch_size * 9):\n",
        "                    blank_values = [torch.Tensor([0.0]) for i in range(((batch_size * 9) - predicted.shape[0]))]\n",
        "                    predicted = torch.Tensor([*predicted, *blank_values])\n",
        "\n",
        "                # append predicted label\n",
        "                pred.append(predicted.cpu().numpy())\n",
        "\n",
        "                # calculate loss\n",
        "                loss = criterion(y_val, y)\n",
        "\n",
        "                # increment correct with correcly predicted labels per batch\n",
        "                if y.shape[0] != batch_size:\n",
        "                    correct += (predicted == new_y).sum()\n",
        "                else:\n",
        "                    correct += (predicted == y).sum()\n",
        "\n",
        "            # append correct samples labels and losses\n",
        "            test_corr.append(correct.item()*100/(b*batch_size * 9))\n",
        "            test_loss.append(loss.item())\n",
        "                \n",
        "        print(f\"Test Loss: {test_loss[-1]:.4f}\")\n",
        "        print(f'Test accuracy: {test_corr[-1]:.2f}%')\n",
        "\n",
        "        labels = torch.Tensor(labels)\n",
        "        pred = torch.Tensor(pred)\n",
        "\n",
        "        if class_names:\n",
        "            plot_confusion_matrix(pred, labels, class_names)\n",
        "        else:\n",
        "            plot_confusion_matrix(pred, labels)\n",
        "\n",
        "        get_all_metrics(pred, labels)\n",
        "\n",
        "        print('Finished Training')\n",
        "\n",
        "    end_time = time.time() - start_time    \n",
        "\n",
        "    # print training summary\n",
        "    print(\"\\nTraining Duration {:.2f} minutes\".format(end_time/60))\n",
        "    print(\"GPU memory used : {} kb\".format(torch.cuda.memory_allocated()))\n",
        "    print(\"GPU memory cached : {} kb\".format(torch.cuda.memory_reserved()))\n",
        "\n",
        "    plot_loss(training_losses, test_loss) \n",
        "    plot_accuracy(training_accuracies, test_corr) \n",
        "\n",
        "    torch.save(model.state_dict(), model_dir + '/' + model_name + f'_fold_{fold}.pt')"
      ],
      "execution_count": 87,
      "outputs": [
        {
          "output_type": "stream",
          "text": [
            "FOLD 1\n",
            "\n",
            "\n",
            "Training the model\n"
          ],
          "name": "stdout"
        },
        {
          "output_type": "stream",
          "text": [
            "/usr/local/lib/python3.7/dist-packages/torch/nn/modules/container.py:119: UserWarning: Implicit dimension choice for softmax has been deprecated. Change the call to include dim=X as an argument.\n",
            "  input = module(input)\n"
          ],
          "name": "stderr"
        },
        {
          "output_type": "stream",
          "text": [
            "Epoch:  1  batch:      1 [     1/307]  Loss: 1.094885  Accuracy: 37.500000%\n",
            "Epoch:  1  batch:     39 [    39/307]  Loss: 1.049145  Accuracy: 48.076923%\n",
            "Epoch:  1  batch:     77 [    77/307]  Loss: 1.175822  Accuracy: 46.428571%\n",
            "Epoch:  1  batch:    115 [   115/307]  Loss: 0.956128  Accuracy: 49.770531%\n",
            "Epoch:  1  batch:    153 [   153/307]  Loss: 0.793791  Accuracy: 52.096950%\n",
            "Epoch:  1  batch:    191 [   191/307]  Loss: 1.248762  Accuracy: 54.348458%\n",
            "Epoch:  1  batch:    229 [   229/307]  Loss: 0.798274  Accuracy: 55.355410%\n",
            "Epoch:  1  batch:    267 [   267/307]  Loss: 0.686745  Accuracy: 55.846858%\n",
            "Epoch:  1  batch:    305 [   305/307]  Loss: 0.996799  Accuracy: 56.438980%\n",
            "Epoch 1 | Training Accuracy: 56.274882 | Training Loss: 0.837631\n",
            "Test Loss: 0.8690\n",
            "Test accuracy: 58.41%\n"
          ],
          "name": "stdout"
        },
        {
          "output_type": "display_data",
          "data": {
            "image/png": "[encoded data removed]",
            "text/plain": [
              "<Figure size 648x432 with 2 Axes>"
            ]
          },
          "metadata": {
            "tags": [],
            "needs_background": "light"
          }
        },
        {
          "output_type": "stream",
          "text": [
            "\n",
            "Accuracy Score: 0.6411\n",
            "\n",
            "Classification Report: \n",
            "\n",
            "              precision    recall  f1-score   support\n",
            "\n",
            "         0.0       0.81      0.68      0.74      3232\n",
            "         1.0       0.00      0.00      0.00         0\n",
            "         2.0       0.88      0.58      0.70      2312\n",
            "\n",
            "    accuracy                           0.64      5544\n",
            "   macro avg       0.56      0.42      0.48      5544\n",
            "weighted avg       0.84      0.64      0.72      5544\n",
            "\n",
            "\n",
            "Jaccard Index (Class-Wise): \n",
            "[0.58864303 0.         0.53926282]\n",
            "Average Jaccard Index: 0.37596861634618234\n",
            "\n",
            "Precision Score (Class-Wise): \n",
            "[0.80968097 0.         0.87973856]\n",
            "Average Precision Score: 0.5631398433961042\n",
            "\n",
            "Recall Score (Class-Wise): \n",
            "[0.68316832 0.         0.58217993]\n",
            "Average Recall Score: 0.42178274920917697\n",
            "\n",
            "F1 Score (Class-Wise): \n",
            "[0.74106394 0.         0.70067673]\n",
            "Average F1: 0.4805802225905012\n",
            "\n",
            "Finished Training\n",
            "\n",
            "Training Duration 2.27 minutes\n",
            "GPU memory used : 403036672 kb\n",
            "GPU memory cached : 5997854720 kb\n"
          ],
          "name": "stdout"
        },
        {
          "output_type": "stream",
          "text": [
            "/usr/local/lib/python3.7/dist-packages/sklearn/metrics/_classification.py:1272: UndefinedMetricWarning: Recall and F-score are ill-defined and being set to 0.0 in labels with no true samples. Use `zero_division` parameter to control this behavior.\n",
            "  _warn_prf(average, modifier, msg_start, len(result))\n",
            "/usr/local/lib/python3.7/dist-packages/sklearn/metrics/_classification.py:1272: UndefinedMetricWarning: Recall is ill-defined and being set to 0.0 in labels with no true samples. Use `zero_division` parameter to control this behavior.\n",
            "  _warn_prf(average, modifier, msg_start, len(result))\n"
          ],
          "name": "stderr"
        },
        {
          "output_type": "display_data",
          "data": {
            "image/png": "[encoded data removed]",
            "text/plain": [
              "<Figure size 432x288 with 1 Axes>"
            ]
          },
          "metadata": {
            "tags": [],
            "needs_background": "light"
          }
        },
        {
          "output_type": "display_data",
          "data": {
            "image/png": "[encoded data removed]",
            "text/plain": [
              "<Figure size 432x288 with 1 Axes>"
            ]
          },
          "metadata": {
            "tags": [],
            "needs_background": "light"
          }
        },
        {
          "output_type": "stream",
          "text": [
            "FOLD 2\n",
            "\n",
            "\n",
            "Training the model\n",
            "Epoch:  1  batch:      1 [     1/307]  Loss: 1.108101  Accuracy: 25.000000%\n"
          ],
          "name": "stdout"
        },
        {
          "output_type": "error",
          "ename": "KeyboardInterrupt",
          "evalue": "ignored",
          "traceback": [
            "\u001b[0;31m---------------------------------------------------------------------------\u001b[0m",
            "\u001b[0;31mKeyboardInterrupt\u001b[0m                         Traceback (most recent call last)",
            "\u001b[0;32m<ipython-input-87-ba5adc629f5c>\u001b[0m in \u001b[0;36m<module>\u001b[0;34m()\u001b[0m\n\u001b[1;32m     97\u001b[0m             \u001b[0;31m# scheduler.step()\u001b[0m\u001b[0;34m\u001b[0m\u001b[0;34m\u001b[0m\u001b[0;34m\u001b[0m\u001b[0m\n\u001b[1;32m     98\u001b[0m             \u001b[0;31m# print statistics\u001b[0m\u001b[0;34m\u001b[0m\u001b[0;34m\u001b[0m\u001b[0;34m\u001b[0m\u001b[0m\n\u001b[0;32m---> 99\u001b[0;31m             \u001b[0mrunning_loss\u001b[0m \u001b[0;34m+=\u001b[0m \u001b[0mloss\u001b[0m\u001b[0;34m.\u001b[0m\u001b[0mitem\u001b[0m\u001b[0;34m(\u001b[0m\u001b[0;34m)\u001b[0m\u001b[0;34m\u001b[0m\u001b[0;34m\u001b[0m\u001b[0m\n\u001b[0m\u001b[1;32m    100\u001b[0m \u001b[0;34m\u001b[0m\u001b[0m\n\u001b[1;32m    101\u001b[0m             \u001b[0;32mif\u001b[0m \u001b[0mb\u001b[0m \u001b[0;34m%\u001b[0m \u001b[0mint\u001b[0m\u001b[0;34m(\u001b[0m\u001b[0mlen\u001b[0m\u001b[0;34m(\u001b[0m\u001b[0mtrainloader\u001b[0m\u001b[0;34m)\u001b[0m\u001b[0;34m/\u001b[0m\u001b[0mbatch_size\u001b[0m\u001b[0;34m)\u001b[0m \u001b[0;34m==\u001b[0m \u001b[0;36m0\u001b[0m\u001b[0;34m:\u001b[0m\u001b[0;34m\u001b[0m\u001b[0;34m\u001b[0m\u001b[0m\n",
            "\u001b[0;31mKeyboardInterrupt\u001b[0m: "
          ]
        }
      ]
    }
  ]
}